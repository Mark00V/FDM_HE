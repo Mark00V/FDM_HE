{
 "cells": [
  {
   "cell_type": "markdown",
   "id": "833ddd6c",
   "metadata": {},
   "source": [
    "# Calculate transient heat equation with Robin BC "
   ]
  },
  {
   "cell_type": "code",
   "execution_count": 1,
   "id": "44e023ae",
   "metadata": {},
   "outputs": [
    {
     "data": {
      "image/png": "[encoded data removed]",
      "text/plain": [
       "<Figure size 432x288 with 1 Axes>"
      ]
     },
     "metadata": {
      "needs_background": "light"
     },
     "output_type": "display_data"
    }
   ],
   "source": [
    "import numpy as np\n",
    "import matplotlib.pyplot as plt\n",
    "\n",
    "# --------------------\n",
    "# Input\n",
    "# Mesh\n",
    "length = 0.25\n",
    "i_nodes = 51\n",
    "\n",
    "# material\n",
    "mat_roh = 1000\n",
    "mat_cp = 1000\n",
    "mat_k = 2.5\n",
    "\n",
    "# bcs and ic\n",
    "bc_tempa_l = 20\n",
    "bc_h_l = 25\n",
    "bc_tempa_r = 5\n",
    "bc_h_r = 5\n",
    "ic_temp = 0\n",
    "\n",
    "# method of lines\n",
    "dt = 5\n",
    "n_max = 10000\n",
    "# --------------------\n",
    "n_max += 1\n",
    "mat_a = mat_k/(mat_roh*mat_cp)\n",
    "i_max = i_nodes-1\n",
    "\n",
    "dx = length/i_max\n",
    "\n",
    "# set T\n",
    "T = np.zeros((n_max,i_nodes))\n",
    "\n",
    "# set ICs\n",
    "T[0] = ic_temp\n",
    "\n",
    "# set BCs\n",
    "T[0,0] = 1/mat_k*(dx*bc_h_l*bc_tempa_l+(mat_k-dx*bc_h_l)*T[0,1])\n",
    "T[0,i_max] = 1/mat_k*(dx*bc_h_r*bc_tempa_r+(mat_k-dx*bc_h_r)*T[0,i_max-1])\n",
    "\n",
    "# calc values\n",
    "for n in range(0,n_max-1):\n",
    "    T[n+1,0] = 1/mat_k*(dx*bc_h_l*bc_tempa_l+(mat_k-dx*bc_h_l)*T[n,1])\n",
    "    T[n+1,i_max] = 1/mat_k*(dx*bc_h_r*bc_tempa_r+(mat_k-dx*bc_h_r)*T[n,i_max-1])\n",
    "    for i in range(1,i_max):\n",
    "        T[n+1,i] = (1/dx**2*(mat_a*dt*T[n,i-1]-2*mat_a*dt*T[n,i]\n",
    "                   +dx**2*T[n,i]+mat_a*dt*T[n,i+1]))\n",
    "        \n",
    "# Output\n",
    "x = np.arange(0,length+dx,dx)\n",
    "y = T[-1]\n",
    "\n",
    "font_globally = \"serif\" \n",
    "plt.rcParams.update({'font.family':font_globally})\n",
    "plt.rc('font', size=12) \n",
    "plt.rc('axes', titlesize=12) \n",
    "plt.rc('axes', labelsize=10) \n",
    "plt.rc('xtick', labelsize=10) \n",
    "plt.rc('ytick', labelsize=10) \n",
    "plt.rc('legend', fontsize=10) \n",
    "\n",
    "fig, ax = plt.subplots()\n",
    "line,=ax.plot(x, y,\"o\",color=\"black\") # \"o\" setzt marker\n",
    "ax.set(xlabel='x [m]', ylabel='T [K]',\n",
    "       title='Temperaturverlauf bei '+str(dt+n*dt)+'s')\n",
    "ax.grid()\n",
    "line.set_dashes([2, 2, 10, 2])\n",
    "\n",
    "# Skalierung Bilder\n",
    "fig.set_figwidth(6)  # x-Größe des Plots in inch, Angabe in cm: cm/2.54\n",
    "fig.set_figheight(4) # y-Größe des Plots in inch\n",
    "\n",
    "# Ausgabe\n",
    "plt.show()"
   ]
  },
  {
   "cell_type": "code",
   "execution_count": null,
   "id": "dd22684e",
   "metadata": {},
   "outputs": [],
   "source": []
  }
 ],
 "metadata": {
  "kernelspec": {
   "display_name": "Python 3 (ipykernel)",
   "language": "python",
   "name": "python3"
  },
  "language_info": {
   "codemirror_mode": {
    "name": "ipython",
    "version": 3
   },
   "file_extension": ".py",
   "mimetype": "text/x-python",
   "name": "python",
   "nbconvert_exporter": "python",
   "pygments_lexer": "ipython3",
   "version": "3.9.7"
  }
 },
 "nbformat": 4,
 "nbformat_minor": 5
}
